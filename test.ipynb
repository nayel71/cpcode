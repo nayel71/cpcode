{
 "cells": [
  {
   "cell_type": "code",
   "execution_count": 1,
   "id": "37000cc3-731b-48a7-9f47-e0cd2a6ccf29",
   "metadata": {},
   "outputs": [],
   "source": [
    "load(\"cpcode.sage\")"
   ]
  },
  {
   "cell_type": "code",
   "execution_count": 2,
   "id": "3e39a321-eabd-42f2-bc1d-f0a5931f4858",
   "metadata": {},
   "outputs": [
    {
     "name": "stdout",
     "output_type": "stream",
     "text": [
      "(6, 1, 6) CP code with character chi_1 associated with [6, 1, 6] Generalized Reed-Solomon Code over GF(7) 5\n",
      "(6, 2, 5) CP code with character chi_1 associated with [6, 2, 5] Generalized Reed-Solomon Code over GF(7) 4\n",
      "(6, 3, 4) CP code with character chi_1 associated with [6, 3, 4] Generalized Reed-Solomon Code over GF(7) 3\n",
      "(6, 4, 3) CP code with character chi_1 associated with [6, 4, 3] Generalized Reed-Solomon Code over GF(7) 2\n",
      "(6, 5, 2) CP code with character chi_1 associated with [6, 5, 2] Generalized Reed-Solomon Code over GF(7) 1\n",
      "(6, 6, 1) CP code with character chi_1 associated with [6, 6, 1] Generalized Reed-Solomon Code over GF(7) 0\n"
     ]
    }
   ],
   "source": [
    "q = 7\n",
    "for k in range(q - 1):\n",
    "    code = CharacterPolynomialCode(q - 1, k + 1)\n",
    "    print(code, code.covering_radius())"
   ]
  },
  {
   "cell_type": "code",
   "execution_count": 3,
   "id": "fe50b8a9-ebe1-4ec3-b315-b4e5eb8f5217",
   "metadata": {},
   "outputs": [
    {
     "name": "stdout",
     "output_type": "stream",
     "text": [
      "(8, 1, 8) CP code with character chi_1 associated with [8, 2, 7] Generalized Reed-Solomon Code over GF(9) 7\n",
      "(8, 2, 7) CP code with character chi_1 associated with [8, 3, 6] Generalized Reed-Solomon Code over GF(9) 6\n",
      "(8, 2, 7) CP code with character chi_1 associated with [8, 4, 5] Generalized Reed-Solomon Code over GF(9) 6\n",
      "(8, 3, 5) CP code with character chi_1 associated with [8, 5, 4] Generalized Reed-Solomon Code over GF(9) 5\n",
      "(8, 4, 4) CP code with character chi_1 associated with [8, 6, 3] Generalized Reed-Solomon Code over GF(9) 4\n",
      "(8, 4, 4) CP code with character chi_1 associated with [8, 7, 2] Generalized Reed-Solomon Code over GF(9) 4\n",
      "(8, 5, 4) CP code with character chi_1 associated with [8, 8, 1] Generalized Reed-Solomon Code over GF(9) 3\n"
     ]
    }
   ],
   "source": [
    "q = 9\n",
    "for k in range(1, q - 1):\n",
    "    code = GRSBase(q - 1, k + 1)\n",
    "    print(code, code.covering_radius())"
   ]
  },
  {
   "cell_type": "code",
   "execution_count": 4,
   "id": "f71de82e-7545-4edd-946b-d76d3b074c53",
   "metadata": {},
   "outputs": [
    {
     "name": "stdout",
     "output_type": "stream",
     "text": [
      "8 8 7\n",
      "7 7 6\n",
      "6 7 6\n",
      "5 6 5\n",
      "4 5 4\n",
      "3 5 4\n",
      "2 4 3\n"
     ]
    }
   ],
   "source": [
    "for k, d in enumerate(range(8, 1, -1)):\n",
    "    print(d, d + (k+1)//3, d - 1 + (k+1)//3)"
   ]
  },
  {
   "cell_type": "code",
   "execution_count": 5,
   "id": "3f2ade61-20e8-49e5-b059-14a2fc07e209",
   "metadata": {},
   "outputs": [
    {
     "name": "stdout",
     "output_type": "stream",
     "text": [
      "(15, 1, 15) CP code with character chi_1 associated with [15, 2, 14] Generalized Reed-Solomon Code over GF(16)\n",
      "(15, 1, 15) CP code with character chi_1 associated with [15, 3, 13] Generalized Reed-Solomon Code over GF(16)\n",
      "(15, 2, 14) CP code with character chi_1 associated with [15, 4, 12] Generalized Reed-Solomon Code over GF(16)\n",
      "(15, 2, 14) CP code with character chi_1 associated with [15, 5, 11] Generalized Reed-Solomon Code over GF(16)\n",
      "(15, 3, 13) CP code with character chi_1 associated with [15, 6, 10] Generalized Reed-Solomon Code over GF(16)\n",
      "(15, 3, 13) CP code with character chi_1 associated with [15, 7, 9] Generalized Reed-Solomon Code over GF(16)\n",
      "(15, 4, 12) CP code with character chi_1 associated with [15, 8, 8] Generalized Reed-Solomon Code over GF(16)\n",
      "(15, 4, 12) CP code with character chi_1 associated with [15, 9, 7] Generalized Reed-Solomon Code over GF(16)\n",
      "(15, 5, 11) CP code with character chi_1 associated with [15, 10, 6] Generalized Reed-Solomon Code over GF(16)\n",
      "(15, 5, 11) CP code with character chi_1 associated with [15, 11, 5] Generalized Reed-Solomon Code over GF(16)\n",
      "(15, 6, 10) CP code with character chi_1 associated with [15, 12, 4] Generalized Reed-Solomon Code over GF(16)\n",
      "(15, 6, 10) CP code with character chi_1 associated with [15, 13, 3] Generalized Reed-Solomon Code over GF(16)\n",
      "(15, 7, 9) CP code with character chi_1 associated with [15, 14, 2] Generalized Reed-Solomon Code over GF(16)\n",
      "(15, 7, 9) CP code with character chi_1 associated with [15, 15, 1] Generalized Reed-Solomon Code over GF(16)\n"
     ]
    }
   ],
   "source": [
    "q = 16\n",
    "for k in range(1, q - 1):\n",
    "    code = GRSBase(q - 1, k + 1)\n",
    "    print(code)"
   ]
  },
  {
   "cell_type": "code",
   "execution_count": 6,
   "id": "cfb21fcf-c4ce-4579-a174-f9174620e42d",
   "metadata": {},
   "outputs": [
    {
     "data": {
      "text/plain": [
       "True"
      ]
     },
     "execution_count": 6,
     "metadata": {},
     "output_type": "execute_result"
    }
   ],
   "source": [
    "# test decoder\n",
    "q = 17\n",
    "k = q//2 + 1\n",
    "cpcode = CharacterPolynomialCode(q - 1, k + 1)\n",
    "x = cpcode.polynomial_ring().gen()\n",
    "f = x^k + (q-1)*x  # this gives the minimum weight grs codeword\n",
    "f in cpcode"
   ]
  },
  {
   "cell_type": "code",
   "execution_count": 7,
   "id": "0185f1d6-117a-4571-bb5d-26a88ac06aa7",
   "metadata": {},
   "outputs": [
    {
     "data": {
      "text/plain": [
       "(1.00000000, -0.602634636 - 0.798017228*I, 1.00000000, 0.445738356 - 0.895163291*I, 1.00000000, -0.850217136 + 0.526432163*I, 1.00000000, -0.273662990 - 0.961825643*I, 1.00000000, -0.602634636 + 0.798017227*I, 1.00000000, 0.445738356 + 0.895163291*I, 1.00000000, -0.850217135 - 0.526432163*I, 1.00000000, -0.273662990 + 0.961825643*I)"
      ]
     },
     "execution_count": 7,
     "metadata": {},
     "output_type": "execute_result"
    }
   ],
   "source": [
    "cw = cpcode.encode(f)\n",
    "cw"
   ]
  },
  {
   "cell_type": "code",
   "execution_count": 8,
   "id": "c17bf3d6-3adc-44de-a579-27a2d87e35ba",
   "metadata": {},
   "outputs": [
    {
     "data": {
      "text/plain": [
       "True"
      ]
     },
     "execution_count": 8,
     "metadata": {},
     "output_type": "execute_result"
    }
   ],
   "source": [
    "cw in cpcode"
   ]
  },
  {
   "cell_type": "code",
   "execution_count": 9,
   "id": "d52a2a6d-4b83-42c6-83b4-61b24477efe8",
   "metadata": {},
   "outputs": [
    {
     "data": {
      "text/plain": [
       "True"
      ]
     },
     "execution_count": 9,
     "metadata": {},
     "output_type": "execute_result"
    }
   ],
   "source": [
    "cpcode.decode(cw) == f"
   ]
  },
  {
   "cell_type": "code",
   "execution_count": 10,
   "id": "79e3eb07-b3d6-49e7-a163-f16c13e2e0fd",
   "metadata": {},
   "outputs": [
    {
     "data": {
      "text/plain": [
       "[x^9 + 16*x]"
      ]
     },
     "execution_count": 10,
     "metadata": {},
     "output_type": "execute_result"
    }
   ],
   "source": [
    "cpcode.list_decode(cw)"
   ]
  },
  {
   "cell_type": "code",
   "execution_count": 11,
   "id": "01cc7487-c76e-4529-8e8f-0c9c982aca29",
   "metadata": {},
   "outputs": [
    {
     "data": {
      "text/plain": [
       "True"
      ]
     },
     "execution_count": 11,
     "metadata": {},
     "output_type": "execute_result"
    }
   ],
   "source": [
    "cp_channel = channels.StaticErrorRateChannel(\n",
    "    CC^cpcode.length, \n",
    "    0\n",
    ")\n",
    "rw = cp_channel.transmit_unsafe(cw)\n",
    "rw in cpcode"
   ]
  },
  {
   "cell_type": "code",
   "execution_count": 12,
   "id": "31d41e5e-c42b-4876-b132-ed1c98fd0bef",
   "metadata": {},
   "outputs": [
    {
     "data": {
      "text/plain": [
       "False"
      ]
     },
     "execution_count": 12,
     "metadata": {},
     "output_type": "execute_result"
    }
   ],
   "source": [
    "cp_channel = channels.StaticErrorRateChannel(\n",
    "    CC^cpcode.length, \n",
    "    1\n",
    ")\n",
    "rw = cp_channel.transmit_unsafe(cw)\n",
    "rw in cpcode"
   ]
  },
  {
   "cell_type": "code",
   "execution_count": 13,
   "id": "958afcd6-b6ea-4129-9c45-fd2cddddaaa5",
   "metadata": {},
   "outputs": [
    {
     "data": {
      "text/plain": [
       "False"
      ]
     },
     "execution_count": 13,
     "metadata": {},
     "output_type": "execute_result"
    }
   ],
   "source": [
    "cp_channel = channels.StaticErrorRateChannel(\n",
    "    CC^cpcode.length, \n",
    "    cpcode.list_decoding_radius()\n",
    ")\n",
    "rw = cp_channel.transmit_unsafe(cw)\n",
    "rw in cpcode"
   ]
  },
  {
   "cell_type": "code",
   "execution_count": 14,
   "id": "24b3cc33-db0d-4db6-86be-581c4f8a025d",
   "metadata": {},
   "outputs": [
    {
     "name": "stdout",
     "output_type": "stream",
     "text": [
      "7 1.0 6.0\n",
      "11 1.0 3.808\n",
      "13 1.0 1.0\n",
      "17 1.0 1.0\n",
      "19 1.0 1.178\n",
      "23 1.0 1.025\n",
      "29 1.0 1.031\n",
      "CPU times: user 4min 1s, sys: 336 ms, total: 4min 1s\n",
      "Wall time: 4min 2s\n"
     ]
    }
   ],
   "source": [
    "%%time\n",
    "# test list decoder\n",
    "import numpy as np\n",
    "\n",
    "\n",
    "NUM_POLS = 5\n",
    "NUM_ERRS = 200\n",
    "\n",
    "for q in Primes():\n",
    "    if q > 5:\n",
    "        if q < 30:\n",
    "            k = q//2 + 1\n",
    "            cpcode = CharacterPolynomialCode(q - 1, k + 1)\n",
    "            cp_lsizes = []\n",
    "            rs_lsizes = []\n",
    "            num_errors = cpcode.list_decoding_radius()\n",
    "            for _ in range(NUM_POLS):\n",
    "                f = cpcode.polynomial_ring().random_element(degree=k)\n",
    "                g = cpcode.convert_polynomial(f)\n",
    "                cp_cw = cpcode.encode(g)  # cp codeword\n",
    "                rs_cw = cpcode.grs.encoder(\"EvaluationPolynomial\").encode(g)  # rs codeword\n",
    "                cp_channel = channels.StaticErrorRateChannel(\n",
    "                    CC^cpcode.length, \n",
    "                    num_errors\n",
    "                )\n",
    "                rs_channel = channels.StaticErrorRateChannel(\n",
    "                    cpcode.field^cpcode.length, \n",
    "                    num_errors\n",
    "                )\n",
    "                gsd = cpcode.grs.decoder(\"GuruswamiSudan\", tau=num_errors)\n",
    "                for _ in range(NUM_ERRS):\n",
    "                    cp_rw = cp_channel.transmit_unsafe(cp_cw)\n",
    "                    rs_rw = rs_channel.transmit_unsafe(rs_cw)\n",
    "                    cp_ls = cpcode.list_decode(cp_rw)\n",
    "                    rs_ls = gsd.decode_to_message(rs_rw)\n",
    "                    if len(cp_ls) > 1:\n",
    "                        print(cpcode, f, g, cp_cw, rs_cw, \n",
    "                              cp_rw, rs_rw, cp_ls, rs_ls, \n",
    "                              sep=\"\\n\\t\")\n",
    "                    cp_lsizes.append(len(cp_ls))\n",
    "                    rs_lsizes.append(len(rs_ls))\n",
    "            print(q, np.mean(cp_lsizes), np.mean(rs_lsizes))\n",
    "        else:\n",
    "            break"
   ]
  }
 ],
 "metadata": {
  "kernelspec": {
   "display_name": "SageMath 10.3",
   "language": "sage",
   "name": "sagemath-10.3"
  },
  "language_info": {
   "codemirror_mode": {
    "name": "ipython",
    "version": 3
   },
   "file_extension": ".py",
   "mimetype": "text/x-python",
   "name": "python",
   "nbconvert_exporter": "python",
   "pygments_lexer": "ipython3",
   "version": "3.11.8"
  }
 },
 "nbformat": 4,
 "nbformat_minor": 5
}
